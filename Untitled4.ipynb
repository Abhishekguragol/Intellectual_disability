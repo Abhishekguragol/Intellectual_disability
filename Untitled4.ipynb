{
 "cells": [
  {
   "cell_type": "code",
   "execution_count": null,
   "metadata": {},
   "outputs": [],
   "source": [
    "import pandas as pd\n",
    "from random import randint \n",
    "from sklearn import preprocessing\n",
    "from sklearn.preprocessing import MinMaxScaler\n",
    "import keras\n",
    "from keras import backend as K\n",
    "from keras.models import Sequential\n",
    "from keras.layers import Activation\n",
    "from keras.layers.core import Dense\n",
    "from keras.optimizers import Adam,SGD\n",
    "from keras.metrics import categorical_crossentropy\n",
    "from keras.models import model_from_json\n",
    "import os\n",
    "df = pd.read_csv('data.csv')\n",
    "X = df.iloc[:,0:22]\n",
    "columns = df.columns\n",
    "Xsample = df[[' Age ', ' Gender ', ' Score ',' IDR  ',' Forward_Score ',' Backward_Score ',' IDD  ',' IDB  ',' IQ      ',' Percentile ',' IDG  ',' IDV']]\n",
    "train_label =df[['   ID ']]\n",
    "train_sample =Xsample\n",
    "scaler = MinMaxScaler(feature_range=(0,1))\n",
    "le = preprocessing.LabelEncoder()\n",
    "train_sample = train_sample.apply(le.fit_transform)\n",
    "scaled_train_samples = scaler.fit_transform((train_sample))\n",
    "model = Sequential([\n",
    "    Dense(12,input_shape=(12,),activation='softmax'),\n",
    "    Dense(24,activation='softmax'),\n",
    "    Dense(24,activation='softmax'),\n",
    "    Dense(2,activation='softmax')\n",
    "])\n",
    "model.compile(Adam(lr=.0001), loss='sparse_categorical_crossentropy',metrics=['accuracy'])\n",
    "model.fit(scaled_train_samples,train_label,batch_size=4,epochs=5000, shuffle=True, verbose=2)"
   ]
  },
  {
   "cell_type": "code",
   "execution_count": null,
   "metadata": {},
   "outputs": [],
   "source": [
    "scores = model.evaluate(scaled_train_samples,train_label, verbose=0)\n",
    "print(\"%s: %.2f%%\" % (model.metrics_names[1], scores[1]*100))"
   ]
  },
  {
   "cell_type": "code",
   "execution_count": null,
   "metadata": {},
   "outputs": [],
   "source": []
  }
 ],
 "metadata": {
  "kernelspec": {
   "display_name": "Python 3",
   "language": "python",
   "name": "python3"
  },
  "language_info": {
   "codemirror_mode": {
    "name": "ipython",
    "version": 3
   },
   "file_extension": ".py",
   "mimetype": "text/x-python",
   "name": "python",
   "nbconvert_exporter": "python",
   "pygments_lexer": "ipython3",
   "version": "3.6.5"
  }
 },
 "nbformat": 4,
 "nbformat_minor": 2
}
